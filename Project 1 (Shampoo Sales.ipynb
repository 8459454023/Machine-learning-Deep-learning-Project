{
 "cells": [
  {
   "cell_type": "markdown",
   "id": "42cf23a2",
   "metadata": {},
   "source": [
    "# 1)Import Libraries"
   ]
  },
  {
   "cell_type": "code",
   "execution_count": 1,
   "id": "5a32c6d3",
   "metadata": {},
   "outputs": [],
   "source": [
    "import numpy as np\n",
    "import pandas as pd\n",
    "import matplotlib.pyplot as plt\n",
    "from sklearn.preprocessing import MinMaxScaler\n",
    "from sklearn.metrics import mean_squared_error\n",
    "from tensorflow.keras.models import Sequential\n",
    "from tensorflow.keras.layers import LSTM, Dense\n",
    "from tensorflow.keras.preprocessing.image import ImageDataGenerator"
   ]
  },
  {
   "cell_type": "code",
   "execution_count": 2,
   "id": "78e359e1",
   "metadata": {},
   "outputs": [],
   "source": [
    "import warnings\n",
    "warnings.filterwarnings(\"ignore\")"
   ]
  },
  {
   "cell_type": "markdown",
   "id": "357b3465",
   "metadata": {},
   "source": [
    "# Load Dataset"
   ]
  },
  {
   "cell_type": "code",
   "execution_count": 3,
   "id": "4b7ccf80",
   "metadata": {},
   "outputs": [],
   "source": [
    "df = pd.read_csv(\"shampoo_sales.csv\")"
   ]
  },
  {
   "cell_type": "code",
   "execution_count": 4,
   "id": "0656de6b",
   "metadata": {},
   "outputs": [
    {
     "data": {
      "text/html": [
       "<div>\n",
       "<style scoped>\n",
       "    .dataframe tbody tr th:only-of-type {\n",
       "        vertical-align: middle;\n",
       "    }\n",
       "\n",
       "    .dataframe tbody tr th {\n",
       "        vertical-align: top;\n",
       "    }\n",
       "\n",
       "    .dataframe thead th {\n",
       "        text-align: right;\n",
       "    }\n",
       "</style>\n",
       "<table border=\"1\" class=\"dataframe\">\n",
       "  <thead>\n",
       "    <tr style=\"text-align: right;\">\n",
       "      <th></th>\n",
       "      <th>Month</th>\n",
       "      <th>Sales</th>\n",
       "    </tr>\n",
       "  </thead>\n",
       "  <tbody>\n",
       "    <tr>\n",
       "      <th>0</th>\n",
       "      <td>1-01</td>\n",
       "      <td>266.0</td>\n",
       "    </tr>\n",
       "    <tr>\n",
       "      <th>1</th>\n",
       "      <td>1-02</td>\n",
       "      <td>145.9</td>\n",
       "    </tr>\n",
       "    <tr>\n",
       "      <th>2</th>\n",
       "      <td>1-03</td>\n",
       "      <td>183.1</td>\n",
       "    </tr>\n",
       "    <tr>\n",
       "      <th>3</th>\n",
       "      <td>1-04</td>\n",
       "      <td>119.3</td>\n",
       "    </tr>\n",
       "    <tr>\n",
       "      <th>4</th>\n",
       "      <td>1-05</td>\n",
       "      <td>180.3</td>\n",
       "    </tr>\n",
       "    <tr>\n",
       "      <th>5</th>\n",
       "      <td>1-06</td>\n",
       "      <td>168.5</td>\n",
       "    </tr>\n",
       "    <tr>\n",
       "      <th>6</th>\n",
       "      <td>1-07</td>\n",
       "      <td>231.8</td>\n",
       "    </tr>\n",
       "    <tr>\n",
       "      <th>7</th>\n",
       "      <td>1-08</td>\n",
       "      <td>224.5</td>\n",
       "    </tr>\n",
       "    <tr>\n",
       "      <th>8</th>\n",
       "      <td>1-09</td>\n",
       "      <td>192.8</td>\n",
       "    </tr>\n",
       "    <tr>\n",
       "      <th>9</th>\n",
       "      <td>1-10</td>\n",
       "      <td>122.9</td>\n",
       "    </tr>\n",
       "    <tr>\n",
       "      <th>10</th>\n",
       "      <td>1-11</td>\n",
       "      <td>336.5</td>\n",
       "    </tr>\n",
       "    <tr>\n",
       "      <th>11</th>\n",
       "      <td>1-12</td>\n",
       "      <td>185.9</td>\n",
       "    </tr>\n",
       "    <tr>\n",
       "      <th>12</th>\n",
       "      <td>2-01</td>\n",
       "      <td>194.3</td>\n",
       "    </tr>\n",
       "    <tr>\n",
       "      <th>13</th>\n",
       "      <td>2-02</td>\n",
       "      <td>149.5</td>\n",
       "    </tr>\n",
       "    <tr>\n",
       "      <th>14</th>\n",
       "      <td>2-03</td>\n",
       "      <td>210.1</td>\n",
       "    </tr>\n",
       "    <tr>\n",
       "      <th>15</th>\n",
       "      <td>2-04</td>\n",
       "      <td>273.3</td>\n",
       "    </tr>\n",
       "    <tr>\n",
       "      <th>16</th>\n",
       "      <td>2-05</td>\n",
       "      <td>191.4</td>\n",
       "    </tr>\n",
       "    <tr>\n",
       "      <th>17</th>\n",
       "      <td>2-06</td>\n",
       "      <td>287.0</td>\n",
       "    </tr>\n",
       "    <tr>\n",
       "      <th>18</th>\n",
       "      <td>2-07</td>\n",
       "      <td>226.0</td>\n",
       "    </tr>\n",
       "    <tr>\n",
       "      <th>19</th>\n",
       "      <td>2-08</td>\n",
       "      <td>303.6</td>\n",
       "    </tr>\n",
       "    <tr>\n",
       "      <th>20</th>\n",
       "      <td>2-09</td>\n",
       "      <td>289.9</td>\n",
       "    </tr>\n",
       "    <tr>\n",
       "      <th>21</th>\n",
       "      <td>2-10</td>\n",
       "      <td>421.6</td>\n",
       "    </tr>\n",
       "    <tr>\n",
       "      <th>22</th>\n",
       "      <td>2-11</td>\n",
       "      <td>264.5</td>\n",
       "    </tr>\n",
       "    <tr>\n",
       "      <th>23</th>\n",
       "      <td>2-12</td>\n",
       "      <td>342.3</td>\n",
       "    </tr>\n",
       "    <tr>\n",
       "      <th>24</th>\n",
       "      <td>3-01</td>\n",
       "      <td>339.7</td>\n",
       "    </tr>\n",
       "    <tr>\n",
       "      <th>25</th>\n",
       "      <td>3-02</td>\n",
       "      <td>440.4</td>\n",
       "    </tr>\n",
       "    <tr>\n",
       "      <th>26</th>\n",
       "      <td>3-03</td>\n",
       "      <td>315.9</td>\n",
       "    </tr>\n",
       "    <tr>\n",
       "      <th>27</th>\n",
       "      <td>3-04</td>\n",
       "      <td>439.3</td>\n",
       "    </tr>\n",
       "    <tr>\n",
       "      <th>28</th>\n",
       "      <td>3-05</td>\n",
       "      <td>401.3</td>\n",
       "    </tr>\n",
       "    <tr>\n",
       "      <th>29</th>\n",
       "      <td>3-06</td>\n",
       "      <td>437.4</td>\n",
       "    </tr>\n",
       "    <tr>\n",
       "      <th>30</th>\n",
       "      <td>3-07</td>\n",
       "      <td>575.5</td>\n",
       "    </tr>\n",
       "    <tr>\n",
       "      <th>31</th>\n",
       "      <td>3-08</td>\n",
       "      <td>407.6</td>\n",
       "    </tr>\n",
       "    <tr>\n",
       "      <th>32</th>\n",
       "      <td>3-09</td>\n",
       "      <td>682.0</td>\n",
       "    </tr>\n",
       "    <tr>\n",
       "      <th>33</th>\n",
       "      <td>3-10</td>\n",
       "      <td>475.3</td>\n",
       "    </tr>\n",
       "    <tr>\n",
       "      <th>34</th>\n",
       "      <td>3-11</td>\n",
       "      <td>581.3</td>\n",
       "    </tr>\n",
       "    <tr>\n",
       "      <th>35</th>\n",
       "      <td>3-12</td>\n",
       "      <td>646.9</td>\n",
       "    </tr>\n",
       "  </tbody>\n",
       "</table>\n",
       "</div>"
      ],
      "text/plain": [
       "   Month  Sales\n",
       "0   1-01  266.0\n",
       "1   1-02  145.9\n",
       "2   1-03  183.1\n",
       "3   1-04  119.3\n",
       "4   1-05  180.3\n",
       "5   1-06  168.5\n",
       "6   1-07  231.8\n",
       "7   1-08  224.5\n",
       "8   1-09  192.8\n",
       "9   1-10  122.9\n",
       "10  1-11  336.5\n",
       "11  1-12  185.9\n",
       "12  2-01  194.3\n",
       "13  2-02  149.5\n",
       "14  2-03  210.1\n",
       "15  2-04  273.3\n",
       "16  2-05  191.4\n",
       "17  2-06  287.0\n",
       "18  2-07  226.0\n",
       "19  2-08  303.6\n",
       "20  2-09  289.9\n",
       "21  2-10  421.6\n",
       "22  2-11  264.5\n",
       "23  2-12  342.3\n",
       "24  3-01  339.7\n",
       "25  3-02  440.4\n",
       "26  3-03  315.9\n",
       "27  3-04  439.3\n",
       "28  3-05  401.3\n",
       "29  3-06  437.4\n",
       "30  3-07  575.5\n",
       "31  3-08  407.6\n",
       "32  3-09  682.0\n",
       "33  3-10  475.3\n",
       "34  3-11  581.3\n",
       "35  3-12  646.9"
      ]
     },
     "execution_count": 4,
     "metadata": {},
     "output_type": "execute_result"
    }
   ],
   "source": [
    "df"
   ]
  },
  {
   "cell_type": "code",
   "execution_count": 5,
   "id": "8682e601",
   "metadata": {},
   "outputs": [
    {
     "data": {
      "text/html": [
       "<div>\n",
       "<style scoped>\n",
       "    .dataframe tbody tr th:only-of-type {\n",
       "        vertical-align: middle;\n",
       "    }\n",
       "\n",
       "    .dataframe tbody tr th {\n",
       "        vertical-align: top;\n",
       "    }\n",
       "\n",
       "    .dataframe thead th {\n",
       "        text-align: right;\n",
       "    }\n",
       "</style>\n",
       "<table border=\"1\" class=\"dataframe\">\n",
       "  <thead>\n",
       "    <tr style=\"text-align: right;\">\n",
       "      <th></th>\n",
       "      <th>Month</th>\n",
       "      <th>Sales</th>\n",
       "    </tr>\n",
       "  </thead>\n",
       "  <tbody>\n",
       "    <tr>\n",
       "      <th>0</th>\n",
       "      <td>1-01</td>\n",
       "      <td>266.0</td>\n",
       "    </tr>\n",
       "    <tr>\n",
       "      <th>1</th>\n",
       "      <td>1-02</td>\n",
       "      <td>145.9</td>\n",
       "    </tr>\n",
       "    <tr>\n",
       "      <th>2</th>\n",
       "      <td>1-03</td>\n",
       "      <td>183.1</td>\n",
       "    </tr>\n",
       "    <tr>\n",
       "      <th>3</th>\n",
       "      <td>1-04</td>\n",
       "      <td>119.3</td>\n",
       "    </tr>\n",
       "    <tr>\n",
       "      <th>4</th>\n",
       "      <td>1-05</td>\n",
       "      <td>180.3</td>\n",
       "    </tr>\n",
       "  </tbody>\n",
       "</table>\n",
       "</div>"
      ],
      "text/plain": [
       "  Month  Sales\n",
       "0  1-01  266.0\n",
       "1  1-02  145.9\n",
       "2  1-03  183.1\n",
       "3  1-04  119.3\n",
       "4  1-05  180.3"
      ]
     },
     "execution_count": 5,
     "metadata": {},
     "output_type": "execute_result"
    }
   ],
   "source": [
    "df.head()"
   ]
  },
  {
   "cell_type": "code",
   "execution_count": 6,
   "id": "acc5f4de",
   "metadata": {},
   "outputs": [
    {
     "data": {
      "text/plain": [
       "Index(['Month', 'Sales'], dtype='object')"
      ]
     },
     "execution_count": 6,
     "metadata": {},
     "output_type": "execute_result"
    }
   ],
   "source": [
    "df.columns"
   ]
  },
  {
   "cell_type": "markdown",
   "id": "afdbd095",
   "metadata": {},
   "source": [
    "# step 1) Data Preprocessing"
   ]
  },
  {
   "cell_type": "code",
   "execution_count": 7,
   "id": "7e4d513a",
   "metadata": {},
   "outputs": [],
   "source": [
    "df = pd.read_csv(\"shampoo_sales.csv\", index_col=\"Month\", parse_dates=True)"
   ]
  },
  {
   "cell_type": "code",
   "execution_count": 8,
   "id": "a5acf910",
   "metadata": {},
   "outputs": [
    {
     "data": {
      "text/html": [
       "<div>\n",
       "<style scoped>\n",
       "    .dataframe tbody tr th:only-of-type {\n",
       "        vertical-align: middle;\n",
       "    }\n",
       "\n",
       "    .dataframe tbody tr th {\n",
       "        vertical-align: top;\n",
       "    }\n",
       "\n",
       "    .dataframe thead th {\n",
       "        text-align: right;\n",
       "    }\n",
       "</style>\n",
       "<table border=\"1\" class=\"dataframe\">\n",
       "  <thead>\n",
       "    <tr style=\"text-align: right;\">\n",
       "      <th></th>\n",
       "      <th>Sales</th>\n",
       "    </tr>\n",
       "    <tr>\n",
       "      <th>Month</th>\n",
       "      <th></th>\n",
       "    </tr>\n",
       "  </thead>\n",
       "  <tbody>\n",
       "    <tr>\n",
       "      <th>1-01</th>\n",
       "      <td>266.0</td>\n",
       "    </tr>\n",
       "    <tr>\n",
       "      <th>1-02</th>\n",
       "      <td>145.9</td>\n",
       "    </tr>\n",
       "    <tr>\n",
       "      <th>1-03</th>\n",
       "      <td>183.1</td>\n",
       "    </tr>\n",
       "    <tr>\n",
       "      <th>1-04</th>\n",
       "      <td>119.3</td>\n",
       "    </tr>\n",
       "    <tr>\n",
       "      <th>1-05</th>\n",
       "      <td>180.3</td>\n",
       "    </tr>\n",
       "  </tbody>\n",
       "</table>\n",
       "</div>"
      ],
      "text/plain": [
       "       Sales\n",
       "Month       \n",
       "1-01   266.0\n",
       "1-02   145.9\n",
       "1-03   183.1\n",
       "1-04   119.3\n",
       "1-05   180.3"
      ]
     },
     "execution_count": 8,
     "metadata": {},
     "output_type": "execute_result"
    }
   ],
   "source": [
    "df.head()"
   ]
  },
  {
   "cell_type": "code",
   "execution_count": 9,
   "id": "ffcd3823",
   "metadata": {},
   "outputs": [],
   "source": [
    "# Head of The datasets"
   ]
  },
  {
   "cell_type": "code",
   "execution_count": 10,
   "id": "84402d1b",
   "metadata": {},
   "outputs": [
    {
     "data": {
      "text/html": [
       "<div>\n",
       "<style scoped>\n",
       "    .dataframe tbody tr th:only-of-type {\n",
       "        vertical-align: middle;\n",
       "    }\n",
       "\n",
       "    .dataframe tbody tr th {\n",
       "        vertical-align: top;\n",
       "    }\n",
       "\n",
       "    .dataframe thead th {\n",
       "        text-align: right;\n",
       "    }\n",
       "</style>\n",
       "<table border=\"1\" class=\"dataframe\">\n",
       "  <thead>\n",
       "    <tr style=\"text-align: right;\">\n",
       "      <th></th>\n",
       "      <th>Sales</th>\n",
       "    </tr>\n",
       "    <tr>\n",
       "      <th>Month</th>\n",
       "      <th></th>\n",
       "    </tr>\n",
       "  </thead>\n",
       "  <tbody>\n",
       "    <tr>\n",
       "      <th>1-01</th>\n",
       "      <td>266.0</td>\n",
       "    </tr>\n",
       "    <tr>\n",
       "      <th>1-02</th>\n",
       "      <td>145.9</td>\n",
       "    </tr>\n",
       "    <tr>\n",
       "      <th>1-03</th>\n",
       "      <td>183.1</td>\n",
       "    </tr>\n",
       "    <tr>\n",
       "      <th>1-04</th>\n",
       "      <td>119.3</td>\n",
       "    </tr>\n",
       "  </tbody>\n",
       "</table>\n",
       "</div>"
      ],
      "text/plain": [
       "       Sales\n",
       "Month       \n",
       "1-01   266.0\n",
       "1-02   145.9\n",
       "1-03   183.1\n",
       "1-04   119.3"
      ]
     },
     "execution_count": 10,
     "metadata": {},
     "output_type": "execute_result"
    }
   ],
   "source": [
    "df.loc[\"1-01\":\"1-04\"] #Using They loc in sales columns"
   ]
  },
  {
   "cell_type": "code",
   "execution_count": 11,
   "id": "ccc16be1",
   "metadata": {},
   "outputs": [],
   "source": [
    "# df.loc[\"1-01\"]"
   ]
  },
  {
   "cell_type": "code",
   "execution_count": 12,
   "id": "01b3a37d",
   "metadata": {},
   "outputs": [
    {
     "data": {
      "text/plain": [
       "266.0"
      ]
     },
     "execution_count": 12,
     "metadata": {},
     "output_type": "execute_result"
    }
   ],
   "source": [
    "df.loc[\"1-01\"].mean() # Find The mean of month columns"
   ]
  },
  {
   "cell_type": "markdown",
   "id": "053bd66e",
   "metadata": {},
   "source": [
    "# plotting they graphs"
   ]
  },
  {
   "cell_type": "code",
   "execution_count": 13,
   "id": "7864febf",
   "metadata": {},
   "outputs": [
    {
     "data": {
      "text/plain": [
       "<Axes: xlabel='Month'>"
      ]
     },
     "execution_count": 13,
     "metadata": {},
     "output_type": "execute_result"
    },
    {
     "data": {
      "image/png": "[encoded data removed]",
      "text/plain": [
       "<Figure size 640x480 with 1 Axes>"
      ]
     },
     "metadata": {},
     "output_type": "display_data"
    }
   ],
   "source": [
    "df.plot() # Plotting they graphs Sales"
   ]
  },
  {
   "cell_type": "code",
   "execution_count": 14,
   "id": "f62b1579",
   "metadata": {},
   "outputs": [
    {
     "data": {
      "text/plain": [
       "<Axes: xlabel='Month'>"
      ]
     },
     "execution_count": 14,
     "metadata": {},
     "output_type": "execute_result"
    },
    {
     "data": {
      "image/png": "[encoded data removed]",
      "text/plain": [
       "<Figure size 1500x500 with 1 Axes>"
      ]
     },
     "metadata": {},
     "output_type": "display_data"
    }
   ],
   "source": [
    "df.plot(figsize=(15,5)) #plot They figure in size(15,5)"
   ]
  },
  {
   "cell_type": "code",
   "execution_count": 15,
   "id": "30c092a7",
   "metadata": {},
   "outputs": [
    {
     "name": "stdout",
     "output_type": "stream",
     "text": [
      "Requirement already satisfied: statsmodels in c:\\users\\acer\\anaconda3\\lib\\site-packages (0.13.5)\n",
      "Requirement already satisfied: pandas>=0.25 in c:\\users\\acer\\anaconda3\\lib\\site-packages (from statsmodels) (1.5.3)\n",
      "Requirement already satisfied: patsy>=0.5.2 in c:\\users\\acer\\anaconda3\\lib\\site-packages (from statsmodels) (0.5.3)\n",
      "Requirement already satisfied: packaging>=21.3 in c:\\users\\acer\\anaconda3\\lib\\site-packages (from statsmodels) (23.0)\n",
      "Requirement already satisfied: scipy>=1.3 in c:\\users\\acer\\anaconda3\\lib\\site-packages (from statsmodels) (1.10.1)\n",
      "Requirement already satisfied: numpy>=1.17 in c:\\users\\acer\\anaconda3\\lib\\site-packages (from statsmodels) (1.24.3)\n",
      "Requirement already satisfied: python-dateutil>=2.8.1 in c:\\users\\acer\\anaconda3\\lib\\site-packages (from pandas>=0.25->statsmodels) (2.8.2)\n",
      "Requirement already satisfied: pytz>=2020.1 in c:\\users\\acer\\anaconda3\\lib\\site-packages (from pandas>=0.25->statsmodels) (2022.7)\n",
      "Requirement already satisfied: six in c:\\users\\acer\\anaconda3\\lib\\site-packages (from patsy>=0.5.2->statsmodels) (1.16.0)\n",
      "Note: you may need to restart the kernel to use updated packages.\n"
     ]
    }
   ],
   "source": [
    "pip install statsmodels"
   ]
  },
  {
   "cell_type": "markdown",
   "id": "44811468",
   "metadata": {},
   "source": [
    "# Step 2 : Data Analysis"
   ]
  },
  {
   "cell_type": "code",
   "execution_count": 16,
   "id": "9e42902f",
   "metadata": {},
   "outputs": [],
   "source": [
    "from statsmodels.tsa.seasonal import seasonal_decompose"
   ]
  },
  {
   "cell_type": "code",
   "execution_count": 69,
   "id": "3d3c959a",
   "metadata": {},
   "outputs": [],
   "source": [
    "df.index.freq = \"MS\" \n",
    "#The code df.index.freq = \"MS\" sets the frequency of the index in a pandas DataFrame df \n",
    "#to be monthly (denoted by \"MS\")."
   ]
  },
  {
   "cell_type": "code",
   "execution_count": 18,
   "id": "268b331c",
   "metadata": {},
   "outputs": [],
   "source": [
    "# Set 'Sales' column as the index"
   ]
  },
  {
   "cell_type": "code",
   "execution_count": 19,
   "id": "719362d6",
   "metadata": {},
   "outputs": [],
   "source": [
    "result = seasonal_decompose(df[\"Sales\"], period=12) \n",
    "#The code df.index.freq = \"MS\" sets the frequency of the index in a pandas DataFrame df to be monthly."
   ]
  },
  {
   "cell_type": "code",
   "execution_count": 20,
   "id": "95b1bf4f",
   "metadata": {},
   "outputs": [
    {
     "data": {
      "image/png": "[encoded data removed]",
      "text/plain": [
       "<Figure size 640x480 with 4 Axes>"
      ]
     },
     "metadata": {},
     "output_type": "display_data"
    }
   ],
   "source": [
    "result.plot();#results are plotting"
   ]
  },
  {
   "cell_type": "code",
   "execution_count": 21,
   "id": "49107588",
   "metadata": {},
   "outputs": [
    {
     "data": {
      "text/plain": [
       "36"
      ]
     },
     "execution_count": 21,
     "metadata": {},
     "output_type": "execute_result"
    }
   ],
   "source": [
    "len(df) "
   ]
  },
  {
   "cell_type": "code",
   "execution_count": 22,
   "id": "3191fce2",
   "metadata": {},
   "outputs": [],
   "source": [
    "train = df.iloc[:32]\n",
    "test = df.iloc[32:]"
   ]
  },
  {
   "cell_type": "code",
   "execution_count": 23,
   "id": "6b0934b7",
   "metadata": {},
   "outputs": [
    {
     "data": {
      "text/plain": [
       "32"
      ]
     },
     "execution_count": 23,
     "metadata": {},
     "output_type": "execute_result"
    }
   ],
   "source": [
    "len(train)"
   ]
  },
  {
   "cell_type": "code",
   "execution_count": 24,
   "id": "1cf75956",
   "metadata": {},
   "outputs": [
    {
     "data": {
      "text/plain": [
       "4"
      ]
     },
     "execution_count": 24,
     "metadata": {},
     "output_type": "execute_result"
    }
   ],
   "source": [
    "len(test)"
   ]
  },
  {
   "cell_type": "code",
   "execution_count": 25,
   "id": "ccc4c907",
   "metadata": {},
   "outputs": [
    {
     "data": {
      "text/plain": [
       "(Sales    266.0\n",
       " Name: 1-01, dtype: float64,\n",
       " Sales    407.6\n",
       " Name: 3-08, dtype: float64)"
      ]
     },
     "execution_count": 25,
     "metadata": {},
     "output_type": "execute_result"
    }
   ],
   "source": [
    "train.iloc[0], train.iloc[-1]"
   ]
  },
  {
   "cell_type": "markdown",
   "id": "9a930881",
   "metadata": {},
   "source": [
    "# Step:3) Data Splitting"
   ]
  },
  {
   "cell_type": "code",
   "execution_count": 26,
   "id": "912319db",
   "metadata": {},
   "outputs": [],
   "source": [
    "from sklearn.preprocessing import MinMaxScaler # apply the preprocessing the data train & test"
   ]
  },
  {
   "cell_type": "code",
   "execution_count": 27,
   "id": "3289d449",
   "metadata": {},
   "outputs": [],
   "source": [
    "scaler = MinMaxScaler() #scaler MinMaxScaler()"
   ]
  },
  {
   "cell_type": "code",
   "execution_count": 28,
   "id": "c170d8e3",
   "metadata": {},
   "outputs": [
    {
     "data": {
      "text/html": [
       "<style>#sk-container-id-1 {\n",
       "  /* Definition of color scheme common for light and dark mode */\n",
       "  --sklearn-color-text: black;\n",
       "  --sklearn-color-line: gray;\n",
       "  /* Definition of color scheme for unfitted estimators */\n",
       "  --sklearn-color-unfitted-level-0: #fff5e6;\n",
       "  --sklearn-color-unfitted-level-1: #f6e4d2;\n",
       "  --sklearn-color-unfitted-level-2: #ffe0b3;\n",
       "  --sklearn-color-unfitted-level-3: chocolate;\n",
       "  /* Definition of color scheme for fitted estimators */\n",
       "  --sklearn-color-fitted-level-0: #f0f8ff;\n",
       "  --sklearn-color-fitted-level-1: #d4ebff;\n",
       "  --sklearn-color-fitted-level-2: #b3dbfd;\n",
       "  --sklearn-color-fitted-level-3: cornflowerblue;\n",
       "\n",
       "  /* Specific color for light theme */\n",
       "  --sklearn-color-text-on-default-background: var(--sg-text-color, var(--theme-code-foreground, var(--jp-content-font-color1, black)));\n",
       "  --sklearn-color-background: var(--sg-background-color, var(--theme-background, var(--jp-layout-color0, white)));\n",
       "  --sklearn-color-border-box: var(--sg-text-color, var(--theme-code-foreground, var(--jp-content-font-color1, black)));\n",
       "  --sklearn-color-icon: #696969;\n",
       "\n",
       "  @media (prefers-color-scheme: dark) {\n",
       "    /* Redefinition of color scheme for dark theme */\n",
       "    --sklearn-color-text-on-default-background: var(--sg-text-color, var(--theme-code-foreground, var(--jp-content-font-color1, white)));\n",
       "    --sklearn-color-background: var(--sg-background-color, var(--theme-background, var(--jp-layout-color0, #111)));\n",
       "    --sklearn-color-border-box: var(--sg-text-color, var(--theme-code-foreground, var(--jp-content-font-color1, white)));\n",
       "    --sklearn-color-icon: #878787;\n",
       "  }\n",
       "}\n",
       "\n",
       "#sk-container-id-1 {\n",
       "  color: var(--sklearn-color-text);\n",
       "}\n",
       "\n",
       "#sk-container-id-1 pre {\n",
       "  padding: 0;\n",
       "}\n",
       "\n",
       "#sk-container-id-1 input.sk-hidden--visually {\n",
       "  border: 0;\n",
       "  clip: rect(1px 1px 1px 1px);\n",
       "  clip: rect(1px, 1px, 1px, 1px);\n",
       "  height: 1px;\n",
       "  margin: -1px;\n",
       "  overflow: hidden;\n",
       "  padding: 0;\n",
       "  position: absolute;\n",
       "  width: 1px;\n",
       "}\n",
       "\n",
       "#sk-container-id-1 div.sk-dashed-wrapped {\n",
       "  border: 1px dashed var(--sklearn-color-line);\n",
       "  margin: 0 0.4em 0.5em 0.4em;\n",
       "  box-sizing: border-box;\n",
       "  padding-bottom: 0.4em;\n",
       "  background-color: var(--sklearn-color-background);\n",
       "}\n",
       "\n",
       "#sk-container-id-1 div.sk-container {\n",
       "  /* jupyter's `normalize.less` sets `[hidden] { display: none; }`\n",
       "     but bootstrap.min.css set `[hidden] { display: none !important; }`\n",
       "     so we also need the `!important` here to be able to override the\n",
       "     default hidden behavior on the sphinx rendered scikit-learn.org.\n",
       "     See: https://github.com/scikit-learn/scikit-learn/issues/21755 */\n",
       "  display: inline-block !important;\n",
       "  position: relative;\n",
       "}\n",
       "\n",
       "#sk-container-id-1 div.sk-text-repr-fallback {\n",
       "  display: none;\n",
       "}\n",
       "\n",
       "div.sk-parallel-item,\n",
       "div.sk-serial,\n",
       "div.sk-item {\n",
       "  /* draw centered vertical line to link estimators */\n",
       "  background-image: linear-gradient(var(--sklearn-color-text-on-default-background), var(--sklearn-color-text-on-default-background));\n",
       "  background-size: 2px 100%;\n",
       "  background-repeat: no-repeat;\n",
       "  background-position: center center;\n",
       "}\n",
       "\n",
       "/* Parallel-specific style estimator block */\n",
       "\n",
       "#sk-container-id-1 div.sk-parallel-item::after {\n",
       "  content: \"\";\n",
       "  width: 100%;\n",
       "  border-bottom: 2px solid var(--sklearn-color-text-on-default-background);\n",
       "  flex-grow: 1;\n",
       "}\n",
       "\n",
       "#sk-container-id-1 div.sk-parallel {\n",
       "  display: flex;\n",
       "  align-items: stretch;\n",
       "  justify-content: center;\n",
       "  background-color: var(--sklearn-color-background);\n",
       "  position: relative;\n",
       "}\n",
       "\n",
       "#sk-container-id-1 div.sk-parallel-item {\n",
       "  display: flex;\n",
       "  flex-direction: column;\n",
       "}\n",
       "\n",
       "#sk-container-id-1 div.sk-parallel-item:first-child::after {\n",
       "  align-self: flex-end;\n",
       "  width: 50%;\n",
       "}\n",
       "\n",
       "#sk-container-id-1 div.sk-parallel-item:last-child::after {\n",
       "  align-self: flex-start;\n",
       "  width: 50%;\n",
       "}\n",
       "\n",
       "#sk-container-id-1 div.sk-parallel-item:only-child::after {\n",
       "  width: 0;\n",
       "}\n",
       "\n",
       "/* Serial-specific style estimator block */\n",
       "\n",
       "#sk-container-id-1 div.sk-serial {\n",
       "  display: flex;\n",
       "  flex-direction: column;\n",
       "  align-items: center;\n",
       "  background-color: var(--sklearn-color-background);\n",
       "  padding-right: 1em;\n",
       "  padding-left: 1em;\n",
       "}\n",
       "\n",
       "\n",
       "/* Toggleable style: style used for estimator/Pipeline/ColumnTransformer box that is\n",
       "clickable and can be expanded/collapsed.\n",
       "- Pipeline and ColumnTransformer use this feature and define the default style\n",
       "- Estimators will overwrite some part of the style using the `sk-estimator` class\n",
       "*/\n",
       "\n",
       "/* Pipeline and ColumnTransformer style (default) */\n",
       "\n",
       "#sk-container-id-1 div.sk-toggleable {\n",
       "  /* Default theme specific background. It is overwritten whether we have a\n",
       "  specific estimator or a Pipeline/ColumnTransformer */\n",
       "  background-color: var(--sklearn-color-background);\n",
       "}\n",
       "\n",
       "/* Toggleable label */\n",
       "#sk-container-id-1 label.sk-toggleable__label {\n",
       "  cursor: pointer;\n",
       "  display: block;\n",
       "  width: 100%;\n",
       "  margin-bottom: 0;\n",
       "  padding: 0.5em;\n",
       "  box-sizing: border-box;\n",
       "  text-align: center;\n",
       "}\n",
       "\n",
       "#sk-container-id-1 label.sk-toggleable__label-arrow:before {\n",
       "  /* Arrow on the left of the label */\n",
       "  content: \"▸\";\n",
       "  float: left;\n",
       "  margin-right: 0.25em;\n",
       "  color: var(--sklearn-color-icon);\n",
       "}\n",
       "\n",
       "#sk-container-id-1 label.sk-toggleable__label-arrow:hover:before {\n",
       "  color: var(--sklearn-color-text);\n",
       "}\n",
       "\n",
       "/* Toggleable content - dropdown */\n",
       "\n",
       "#sk-container-id-1 div.sk-toggleable__content {\n",
       "  max-height: 0;\n",
       "  max-width: 0;\n",
       "  overflow: hidden;\n",
       "  text-align: left;\n",
       "  /* unfitted */\n",
       "  background-color: var(--sklearn-color-unfitted-level-0);\n",
       "}\n",
       "\n",
       "#sk-container-id-1 div.sk-toggleable__content.fitted {\n",
       "  /* fitted */\n",
       "  background-color: var(--sklearn-color-fitted-level-0);\n",
       "}\n",
       "\n",
       "#sk-container-id-1 div.sk-toggleable__content pre {\n",
       "  margin: 0.2em;\n",
       "  border-radius: 0.25em;\n",
       "  color: var(--sklearn-color-text);\n",
       "  /* unfitted */\n",
       "  background-color: var(--sklearn-color-unfitted-level-0);\n",
       "}\n",
       "\n",
       "#sk-container-id-1 div.sk-toggleable__content.fitted pre {\n",
       "  /* unfitted */\n",
       "  background-color: var(--sklearn-color-fitted-level-0);\n",
       "}\n",
       "\n",
       "#sk-container-id-1 input.sk-toggleable__control:checked~div.sk-toggleable__content {\n",
       "  /* Expand drop-down */\n",
       "  max-height: 200px;\n",
       "  max-width: 100%;\n",
       "  overflow: auto;\n",
       "}\n",
       "\n",
       "#sk-container-id-1 input.sk-toggleable__control:checked~label.sk-toggleable__label-arrow:before {\n",
       "  content: \"▾\";\n",
       "}\n",
       "\n",
       "/* Pipeline/ColumnTransformer-specific style */\n",
       "\n",
       "#sk-container-id-1 div.sk-label input.sk-toggleable__control:checked~label.sk-toggleable__label {\n",
       "  color: var(--sklearn-color-text);\n",
       "  background-color: var(--sklearn-color-unfitted-level-2);\n",
       "}\n",
       "\n",
       "#sk-container-id-1 div.sk-label.fitted input.sk-toggleable__control:checked~label.sk-toggleable__label {\n",
       "  background-color: var(--sklearn-color-fitted-level-2);\n",
       "}\n",
       "\n",
       "/* Estimator-specific style */\n",
       "\n",
       "/* Colorize estimator box */\n",
       "#sk-container-id-1 div.sk-estimator input.sk-toggleable__control:checked~label.sk-toggleable__label {\n",
       "  /* unfitted */\n",
       "  background-color: var(--sklearn-color-unfitted-level-2);\n",
       "}\n",
       "\n",
       "#sk-container-id-1 div.sk-estimator.fitted input.sk-toggleable__control:checked~label.sk-toggleable__label {\n",
       "  /* fitted */\n",
       "  background-color: var(--sklearn-color-fitted-level-2);\n",
       "}\n",
       "\n",
       "#sk-container-id-1 div.sk-label label.sk-toggleable__label,\n",
       "#sk-container-id-1 div.sk-label label {\n",
       "  /* The background is the default theme color */\n",
       "  color: var(--sklearn-color-text-on-default-background);\n",
       "}\n",
       "\n",
       "/* On hover, darken the color of the background */\n",
       "#sk-container-id-1 div.sk-label:hover label.sk-toggleable__label {\n",
       "  color: var(--sklearn-color-text);\n",
       "  background-color: var(--sklearn-color-unfitted-level-2);\n",
       "}\n",
       "\n",
       "/* Label box, darken color on hover, fitted */\n",
       "#sk-container-id-1 div.sk-label.fitted:hover label.sk-toggleable__label.fitted {\n",
       "  color: var(--sklearn-color-text);\n",
       "  background-color: var(--sklearn-color-fitted-level-2);\n",
       "}\n",
       "\n",
       "/* Estimator label */\n",
       "\n",
       "#sk-container-id-1 div.sk-label label {\n",
       "  font-family: monospace;\n",
       "  font-weight: bold;\n",
       "  display: inline-block;\n",
       "  line-height: 1.2em;\n",
       "}\n",
       "\n",
       "#sk-container-id-1 div.sk-label-container {\n",
       "  text-align: center;\n",
       "}\n",
       "\n",
       "/* Estimator-specific */\n",
       "#sk-container-id-1 div.sk-estimator {\n",
       "  font-family: monospace;\n",
       "  border: 1px dotted var(--sklearn-color-border-box);\n",
       "  border-radius: 0.25em;\n",
       "  box-sizing: border-box;\n",
       "  margin-bottom: 0.5em;\n",
       "  /* unfitted */\n",
       "  background-color: var(--sklearn-color-unfitted-level-0);\n",
       "}\n",
       "\n",
       "#sk-container-id-1 div.sk-estimator.fitted {\n",
       "  /* fitted */\n",
       "  background-color: var(--sklearn-color-fitted-level-0);\n",
       "}\n",
       "\n",
       "/* on hover */\n",
       "#sk-container-id-1 div.sk-estimator:hover {\n",
       "  /* unfitted */\n",
       "  background-color: var(--sklearn-color-unfitted-level-2);\n",
       "}\n",
       "\n",
       "#sk-container-id-1 div.sk-estimator.fitted:hover {\n",
       "  /* fitted */\n",
       "  background-color: var(--sklearn-color-fitted-level-2);\n",
       "}\n",
       "\n",
       "/* Specification for estimator info (e.g. \"i\" and \"?\") */\n",
       "\n",
       "/* Common style for \"i\" and \"?\" */\n",
       "\n",
       ".sk-estimator-doc-link,\n",
       "a:link.sk-estimator-doc-link,\n",
       "a:visited.sk-estimator-doc-link {\n",
       "  float: right;\n",
       "  font-size: smaller;\n",
       "  line-height: 1em;\n",
       "  font-family: monospace;\n",
       "  background-color: var(--sklearn-color-background);\n",
       "  border-radius: 1em;\n",
       "  height: 1em;\n",
       "  width: 1em;\n",
       "  text-decoration: none !important;\n",
       "  margin-left: 1ex;\n",
       "  /* unfitted */\n",
       "  border: var(--sklearn-color-unfitted-level-1) 1pt solid;\n",
       "  color: var(--sklearn-color-unfitted-level-1);\n",
       "}\n",
       "\n",
       ".sk-estimator-doc-link.fitted,\n",
       "a:link.sk-estimator-doc-link.fitted,\n",
       "a:visited.sk-estimator-doc-link.fitted {\n",
       "  /* fitted */\n",
       "  border: var(--sklearn-color-fitted-level-1) 1pt solid;\n",
       "  color: var(--sklearn-color-fitted-level-1);\n",
       "}\n",
       "\n",
       "/* On hover */\n",
       "div.sk-estimator:hover .sk-estimator-doc-link:hover,\n",
       ".sk-estimator-doc-link:hover,\n",
       "div.sk-label-container:hover .sk-estimator-doc-link:hover,\n",
       ".sk-estimator-doc-link:hover {\n",
       "  /* unfitted */\n",
       "  background-color: var(--sklearn-color-unfitted-level-3);\n",
       "  color: var(--sklearn-color-background);\n",
       "  text-decoration: none;\n",
       "}\n",
       "\n",
       "div.sk-estimator.fitted:hover .sk-estimator-doc-link.fitted:hover,\n",
       ".sk-estimator-doc-link.fitted:hover,\n",
       "div.sk-label-container:hover .sk-estimator-doc-link.fitted:hover,\n",
       ".sk-estimator-doc-link.fitted:hover {\n",
       "  /* fitted */\n",
       "  background-color: var(--sklearn-color-fitted-level-3);\n",
       "  color: var(--sklearn-color-background);\n",
       "  text-decoration: none;\n",
       "}\n",
       "\n",
       "/* Span, style for the box shown on hovering the info icon */\n",
       ".sk-estimator-doc-link span {\n",
       "  display: none;\n",
       "  z-index: 9999;\n",
       "  position: relative;\n",
       "  font-weight: normal;\n",
       "  right: .2ex;\n",
       "  padding: .5ex;\n",
       "  margin: .5ex;\n",
       "  width: min-content;\n",
       "  min-width: 20ex;\n",
       "  max-width: 50ex;\n",
       "  color: var(--sklearn-color-text);\n",
       "  box-shadow: 2pt 2pt 4pt #999;\n",
       "  /* unfitted */\n",
       "  background: var(--sklearn-color-unfitted-level-0);\n",
       "  border: .5pt solid var(--sklearn-color-unfitted-level-3);\n",
       "}\n",
       "\n",
       ".sk-estimator-doc-link.fitted span {\n",
       "  /* fitted */\n",
       "  background: var(--sklearn-color-fitted-level-0);\n",
       "  border: var(--sklearn-color-fitted-level-3);\n",
       "}\n",
       "\n",
       ".sk-estimator-doc-link:hover span {\n",
       "  display: block;\n",
       "}\n",
       "\n",
       "/* \"?\"-specific style due to the `<a>` HTML tag */\n",
       "\n",
       "#sk-container-id-1 a.estimator_doc_link {\n",
       "  float: right;\n",
       "  font-size: 1rem;\n",
       "  line-height: 1em;\n",
       "  font-family: monospace;\n",
       "  background-color: var(--sklearn-color-background);\n",
       "  border-radius: 1rem;\n",
       "  height: 1rem;\n",
       "  width: 1rem;\n",
       "  text-decoration: none;\n",
       "  /* unfitted */\n",
       "  color: var(--sklearn-color-unfitted-level-1);\n",
       "  border: var(--sklearn-color-unfitted-level-1) 1pt solid;\n",
       "}\n",
       "\n",
       "#sk-container-id-1 a.estimator_doc_link.fitted {\n",
       "  /* fitted */\n",
       "  border: var(--sklearn-color-fitted-level-1) 1pt solid;\n",
       "  color: var(--sklearn-color-fitted-level-1);\n",
       "}\n",
       "\n",
       "/* On hover */\n",
       "#sk-container-id-1 a.estimator_doc_link:hover {\n",
       "  /* unfitted */\n",
       "  background-color: var(--sklearn-color-unfitted-level-3);\n",
       "  color: var(--sklearn-color-background);\n",
       "  text-decoration: none;\n",
       "}\n",
       "\n",
       "#sk-container-id-1 a.estimator_doc_link.fitted:hover {\n",
       "  /* fitted */\n",
       "  background-color: var(--sklearn-color-fitted-level-3);\n",
       "}\n",
       "</style><div id=\"sk-container-id-1\" class=\"sk-top-container\"><div class=\"sk-text-repr-fallback\"><pre>MinMaxScaler()</pre><b>In a Jupyter environment, please rerun this cell to show the HTML representation or trust the notebook. <br />On GitHub, the HTML representation is unable to render, please try loading this page with nbviewer.org.</b></div><div class=\"sk-container\" hidden><div class=\"sk-item\"><div class=\"sk-estimator fitted sk-toggleable\"><input class=\"sk-toggleable__control sk-hidden--visually\" id=\"sk-estimator-id-1\" type=\"checkbox\" checked><label for=\"sk-estimator-id-1\" class=\"sk-toggleable__label fitted sk-toggleable__label-arrow fitted\">&nbsp;&nbsp;MinMaxScaler<a class=\"sk-estimator-doc-link fitted\" rel=\"noreferrer\" target=\"_blank\" href=\"https://scikit-learn.org/1.4/modules/generated/sklearn.preprocessing.MinMaxScaler.html\">?<span>Documentation for MinMaxScaler</span></a><span class=\"sk-estimator-doc-link fitted\">i<span>Fitted</span></span></label><div class=\"sk-toggleable__content fitted\"><pre>MinMaxScaler()</pre></div> </div></div></div></div>"
      ],
      "text/plain": [
       "MinMaxScaler()"
      ]
     },
     "execution_count": 28,
     "metadata": {},
     "output_type": "execute_result"
    }
   ],
   "source": [
    "scaler.fit(train) #scaler.fit(train)"
   ]
  },
  {
   "cell_type": "code",
   "execution_count": 29,
   "id": "8392aace",
   "metadata": {},
   "outputs": [],
   "source": [
    "scaled_train = scaler.transform(train)# separate the scaled_train & scaled_test in test & train\n",
    "scaled_test = scaler.transform(test) # separate the scaled_test in the from of scaler.transform(test)"
   ]
  },
  {
   "cell_type": "code",
   "execution_count": 30,
   "id": "19f4ba4b",
   "metadata": {},
   "outputs": [
    {
     "data": {
      "text/plain": [
       "array([[0.32156949],\n",
       "       [0.05830776],\n",
       "       [0.13985094],\n",
       "       [0.        ],\n",
       "       [0.13371328]])"
      ]
     },
     "execution_count": 30,
     "metadata": {},
     "output_type": "execute_result"
    }
   ],
   "source": [
    "scaled_train[:5]"
   ]
  },
  {
   "cell_type": "markdown",
   "id": "13b49f48",
   "metadata": {},
   "source": [
    "#scaled_train: This likely refers to a pandas DataFrame or a numpy array containing scaled or normalized training data. \n",
    "#This could be part of a machine learning pipeline where data is preprocessed before being fed into a model.\n",
    "\n",
    "#[:5]: This is called slicing in Python.\n",
    "#It's a way to select a subset of elements from a list, array, or DataFrame. \n",
    "#In this case, [:5] selects the first five elements of scaled_train."
   ]
  },
  {
   "cell_type": "code",
   "execution_count": 31,
   "id": "e6cdb48e",
   "metadata": {},
   "outputs": [],
   "source": [
    "from tensorflow.keras.preprocessing.sequence import TimeseriesGenerator"
   ]
  },
  {
   "cell_type": "code",
   "execution_count": 32,
   "id": "c7f9bf4b",
   "metadata": {},
   "outputs": [],
   "source": [
    "n_input = 3"
   ]
  },
  {
   "cell_type": "markdown",
   "id": "4ab1cd5e",
   "metadata": {},
   "source": [
    "n_input: This variable name is likely short for \"number of inputs\" or \"input size\".\n",
    "It could represent the number of input features or time steps used for a predictive model, \n",
    "such as a neural network or a time series forecasting model.\n",
    "\n",
    "3: This value indicates that the number of inputs is 3. \n",
    "This could mean different things depending on the context of your code"
   ]
  },
  {
   "cell_type": "code",
   "execution_count": 33,
   "id": "99deceac",
   "metadata": {},
   "outputs": [],
   "source": [
    "generator = TimeseriesGenerator(scaled_train, scaled_train, length=n_input, batch_size=1)"
   ]
  },
  {
   "cell_type": "markdown",
   "id": "3e7728db",
   "metadata": {},
   "source": [
    "#1)scaled_train: This likely represents your training data that has been scaled or normalized.\n",
    "It could be a pandas DataFrame, numpy array, or any other data structure supported by TensorFlow.\n",
    "\n",
    "#2)length=n_input: \n",
    "This parameter specifies the length of the input sequences to be generated. In this case, n_input is a variable that likely holds an integer value indicating the number of time steps or input features to include in each input sequence.\n",
    "\n",
    "#3)batch_size=1: \n",
    "This parameter specifies the number of input-output pairs to include in each batch.\n"
   ]
  },
  {
   "cell_type": "code",
   "execution_count": 34,
   "id": "a18eb790",
   "metadata": {},
   "outputs": [
    {
     "data": {
      "text/plain": [
       "29"
      ]
     },
     "execution_count": 34,
     "metadata": {},
     "output_type": "execute_result"
    }
   ],
   "source": [
    "len(generator)"
   ]
  },
  {
   "cell_type": "code",
   "execution_count": 35,
   "id": "bf46d778",
   "metadata": {},
   "outputs": [
    {
     "data": {
      "text/plain": [
       "(array([0.32156949, 0.05830776, 0.13985094]), array([[0.]]))"
      ]
     },
     "execution_count": 35,
     "metadata": {},
     "output_type": "execute_result"
    }
   ],
   "source": [
    "X, y = generator[0]\n",
    "X.ravel(), y"
   ]
  },
  {
   "cell_type": "markdown",
   "id": "751d1f9c",
   "metadata": {},
   "source": [
    "#X, y = generator[0]: \n",
    "This line retrieves the first batch of input-output pairs from the generator. generator[0]\n",
    "\n",
    "#X.ravel(), y: After extracting the input-output pairs, this line prints or returns them. \n",
    "#X.ravel() converts the input sequences (X) into a 1-dimensional array,"
   ]
  },
  {
   "cell_type": "code",
   "execution_count": 36,
   "id": "8d0c4193",
   "metadata": {},
   "outputs": [
    {
     "data": {
      "text/plain": [
       "(array([0.05830776, 0.13985094, 0.        ]), array([[0.13371328]]))"
      ]
     },
     "execution_count": 36,
     "metadata": {},
     "output_type": "execute_result"
    }
   ],
   "source": [
    "X, y = generator[1]\n",
    "X.ravel(), y"
   ]
  },
  {
   "cell_type": "code",
   "execution_count": 37,
   "id": "44523e0e",
   "metadata": {},
   "outputs": [
    {
     "data": {
      "text/plain": [
       "array([[0.32156949],\n",
       "       [0.05830776],\n",
       "       [0.13985094],\n",
       "       [0.        ],\n",
       "       [0.13371328],\n",
       "       [0.10784744],\n",
       "       [0.24660237],\n",
       "       [0.23060061],\n",
       "       [0.16111355],\n",
       "       [0.00789128],\n",
       "       [0.47610697],\n",
       "       [0.1459886 ]])"
      ]
     },
     "execution_count": 37,
     "metadata": {},
     "output_type": "execute_result"
    }
   ],
   "source": [
    "scaled_train[:12]"
   ]
  },
  {
   "cell_type": "markdown",
   "id": "c5bf3ac1",
   "metadata": {},
   "source": [
    "scaled_train: This likely represents a dataset, \n",
    "possibly a pandas DataFrame or a numpy array, containing scaled or normalized data.\n",
    "\n",
    "[:12]: This is known as slicing in Python. \n",
    "It's a way to select a subset of elements from a list, array, or DataFrame. In this case, [:12] "
   ]
  },
  {
   "cell_type": "code",
   "execution_count": 38,
   "id": "dde0fdf9",
   "metadata": {},
   "outputs": [
    {
     "data": {
      "text/plain": [
       "(array([0.16111355, 0.00789128, 0.47610697]), array([[0.1459886]]))"
      ]
     },
     "execution_count": 38,
     "metadata": {},
     "output_type": "execute_result"
    }
   ],
   "source": [
    "X, y = generator[8]\n",
    "X.ravel(), y"
   ]
  },
  {
   "cell_type": "code",
   "execution_count": 39,
   "id": "5e63f9ca",
   "metadata": {},
   "outputs": [
    {
     "data": {
      "text/plain": [
       "(array([0.1459886 , 0.16440158, 0.06619904]), array([[0.19903551]]))"
      ]
     },
     "execution_count": 39,
     "metadata": {},
     "output_type": "execute_result"
    }
   ],
   "source": [
    "X, y = generator[11]\n",
    "X.ravel(), y"
   ]
  },
  {
   "cell_type": "code",
   "execution_count": 40,
   "id": "15c9c4e8",
   "metadata": {},
   "outputs": [
    {
     "data": {
      "text/plain": [
       "(1, 3, 1)"
      ]
     },
     "execution_count": 40,
     "metadata": {},
     "output_type": "execute_result"
    }
   ],
   "source": [
    "X.shape # Shape of the X shape"
   ]
  },
  {
   "cell_type": "code",
   "execution_count": 41,
   "id": "aae18867",
   "metadata": {},
   "outputs": [
    {
     "data": {
      "text/plain": [
       "(       Sales\n",
       " Month       \n",
       " 1-01   266.0\n",
       " 1-02   145.9\n",
       " 1-03   183.1,\n",
       "        Sales\n",
       " Month       \n",
       " 3-10   475.3\n",
       " 3-11   581.3\n",
       " 3-12   646.9)"
      ]
     },
     "execution_count": 41,
     "metadata": {},
     "output_type": "execute_result"
    }
   ],
   "source": [
    "df.head(3), df.tail(3)  "
   ]
  },
  {
   "cell_type": "markdown",
   "id": "5c0b2e4a",
   "metadata": {},
   "source": [
    "#df.head(3) #top the first three rows of the DataFrame df.\n",
    "#df.tail(3) # the last three rows of the DataFrame df"
   ]
  },
  {
   "cell_type": "code",
   "execution_count": 42,
   "id": "cc72502d",
   "metadata": {},
   "outputs": [],
   "source": [
    "n_input = 12 # \n",
    "#The code n_input = 12 that you're defining a variable named n_input and assigning it the value of 12."
   ]
  },
  {
   "cell_type": "code",
   "execution_count": 43,
   "id": "cc4e75b1",
   "metadata": {},
   "outputs": [],
   "source": [
    "generator = TimeseriesGenerator(scaled_train, scaled_train, length=n_input, batch_size=1)"
   ]
  },
  {
   "cell_type": "markdown",
   "id": "639eb65e",
   "metadata": {},
   "source": [
    "scaled_train: represents your training data that has been scaled or normalized.\n",
    "It could be a pandas DataFrame, numpy array, or any other data structure supported by TensorFlow.\n",
    "\n",
    "length=n_input: This parameter specifies the length of the input sequences to be generated. In this case, n_input is a variable that likely holds an integer value indicating the number of time steps or\n",
    "input features to include in each input sequence.\n",
    "\n",
    "batch_size=1: This parameter specifies the number of input-output pairs to include in each batch. "
   ]
  },
  {
   "cell_type": "code",
   "execution_count": 44,
   "id": "f5529696",
   "metadata": {},
   "outputs": [
    {
     "data": {
      "text/plain": [
       "(array([0.32156949, 0.05830776, 0.13985094, 0.        , 0.13371328,\n",
       "        0.10784744, 0.24660237, 0.23060061, 0.16111355, 0.00789128,\n",
       "        0.47610697, 0.1459886 ]),\n",
       " array([[0.16440158]]))"
      ]
     },
     "execution_count": 44,
     "metadata": {},
     "output_type": "execute_result"
    }
   ],
   "source": [
    "X, y = generator[0]\n",
    "X.ravel(), y"
   ]
  },
  {
   "cell_type": "markdown",
   "id": "be9f2c00",
   "metadata": {},
   "source": [
    "This line retrieves the first batch of input-output pairs from the generator object generator. generator[0]\n",
    "X.ravel(), y: After extracting the input-output pairs, this line prints or returns them.\n",
    "X.ravel() converts the input sequences (X) into a 1-dimensional array, which  "
   ]
  },
  {
   "cell_type": "code",
   "execution_count": 45,
   "id": "e1320f9c",
   "metadata": {},
   "outputs": [
    {
     "data": {
      "text/plain": [
       "(1, 12, 1)"
      ]
     },
     "execution_count": 45,
     "metadata": {},
     "output_type": "execute_result"
    }
   ],
   "source": [
    "X.shape #perform the model"
   ]
  },
  {
   "cell_type": "markdown",
   "id": "cdb48226",
   "metadata": {},
   "source": [
    "# Step 4: Model Building"
   ]
  },
  {
   "cell_type": "code",
   "execution_count": 46,
   "id": "635e968e",
   "metadata": {},
   "outputs": [],
   "source": [
    "from tensorflow.keras.models import Sequential"
   ]
  },
  {
   "cell_type": "code",
   "execution_count": 47,
   "id": "19398aed",
   "metadata": {},
   "outputs": [],
   "source": [
    "from tensorflow.keras.layers import Dense, LSTM"
   ]
  },
  {
   "cell_type": "code",
   "execution_count": 48,
   "id": "c9664793",
   "metadata": {},
   "outputs": [],
   "source": [
    "model = Sequential()"
   ]
  },
  {
   "cell_type": "markdown",
   "id": "93320f8a",
   "metadata": {},
   "source": [
    " #This is a class provided by Keras that represents a linear stack of layers. It's called \"sequential\""
   ]
  },
  {
   "cell_type": "code",
   "execution_count": 49,
   "id": "261abaa7",
   "metadata": {},
   "outputs": [],
   "source": [
    "model.add(LSTM(1000, activation=\"relu\", input_shape=(12, 1)))\n",
    "model.add(Dense(1))"
   ]
  },
  {
   "cell_type": "markdown",
   "id": "cf2bfd43",
   "metadata": {},
   "source": [
    "activation=\"relu\": This sets the activation function of the LSTM units to Rectified Linear Unit (ReLU).\n",
    "ReLU is a commonly used activation function in neural networks.\n",
    "\n",
    "input_shape=(12, 1): This specifies the shape of the input data expected by this layer. \n",
    "    \n",
    "Dense(1): This line adds a dense (fully connected) layer to the model with a single neuron.  "
   ]
  },
  {
   "cell_type": "code",
   "execution_count": 50,
   "id": "9adcc396",
   "metadata": {},
   "outputs": [],
   "source": [
    "model.compile(optimizer=\"adam\", loss=\"mse\")"
   ]
  },
  {
   "cell_type": "markdown",
   "id": "e2476b41",
   "metadata": {},
   "source": [
    "This parameter specifies the loss function to be used during training. In this case.\n",
    "\"mse\" refers to Mean Squared Error"
   ]
  },
  {
   "cell_type": "code",
   "execution_count": 51,
   "id": "46d4ce87",
   "metadata": {},
   "outputs": [
    {
     "name": "stdout",
     "output_type": "stream",
     "text": [
      "Epoch 1/40\n",
      "20/20 [==============================] - 9s 379ms/step - loss: 0.0592\n",
      "Epoch 2/40\n",
      "20/20 [==============================] - 7s 366ms/step - loss: 0.0318\n",
      "Epoch 3/40\n",
      "20/20 [==============================] - 7s 336ms/step - loss: 0.0267\n",
      "Epoch 4/40\n",
      "20/20 [==============================] - 7s 328ms/step - loss: 0.0365\n",
      "Epoch 5/40\n",
      "20/20 [==============================] - 7s 334ms/step - loss: 0.0353\n",
      "Epoch 6/40\n",
      "20/20 [==============================] - 7s 335ms/step - loss: 0.0399\n",
      "Epoch 7/40\n",
      "20/20 [==============================] - 7s 330ms/step - loss: 0.0245\n",
      "Epoch 8/40\n",
      "20/20 [==============================] - 7s 333ms/step - loss: 0.0253\n",
      "Epoch 9/40\n",
      "20/20 [==============================] - 7s 331ms/step - loss: 0.0277\n",
      "Epoch 10/40\n",
      "20/20 [==============================] - 7s 335ms/step - loss: 0.0327\n",
      "Epoch 11/40\n",
      "20/20 [==============================] - 7s 332ms/step - loss: 0.0308\n",
      "Epoch 12/40\n",
      "20/20 [==============================] - 7s 330ms/step - loss: 0.0198\n",
      "Epoch 13/40\n",
      "20/20 [==============================] - 7s 331ms/step - loss: 0.0271\n",
      "Epoch 14/40\n",
      "20/20 [==============================] - 7s 330ms/step - loss: 0.0207\n",
      "Epoch 15/40\n",
      "20/20 [==============================] - 7s 334ms/step - loss: 0.0280\n",
      "Epoch 16/40\n",
      "20/20 [==============================] - 7s 330ms/step - loss: 0.0469\n",
      "Epoch 17/40\n",
      "20/20 [==============================] - 7s 329ms/step - loss: 0.0240\n",
      "Epoch 18/40\n",
      "20/20 [==============================] - 7s 339ms/step - loss: 0.0251\n",
      "Epoch 19/40\n",
      "20/20 [==============================] - 7s 351ms/step - loss: 0.0234\n",
      "Epoch 20/40\n",
      "20/20 [==============================] - 7s 337ms/step - loss: 0.0254\n",
      "Epoch 21/40\n",
      "20/20 [==============================] - 7s 334ms/step - loss: 0.0250\n",
      "Epoch 22/40\n",
      "20/20 [==============================] - 7s 334ms/step - loss: 0.0315\n",
      "Epoch 23/40\n",
      "20/20 [==============================] - 7s 335ms/step - loss: 0.0218\n",
      "Epoch 24/40\n",
      "20/20 [==============================] - 7s 333ms/step - loss: 0.0270\n",
      "Epoch 25/40\n",
      "20/20 [==============================] - 7s 337ms/step - loss: 0.0407\n",
      "Epoch 26/40\n",
      "20/20 [==============================] - 7s 328ms/step - loss: 0.0234\n",
      "Epoch 27/40\n",
      "20/20 [==============================] - 7s 336ms/step - loss: 0.0215\n",
      "Epoch 28/40\n",
      "20/20 [==============================] - 7s 328ms/step - loss: 0.0224\n",
      "Epoch 29/40\n",
      "20/20 [==============================] - 7s 336ms/step - loss: 0.0233\n",
      "Epoch 30/40\n",
      "20/20 [==============================] - 7s 332ms/step - loss: 0.0225\n",
      "Epoch 31/40\n",
      "20/20 [==============================] - 7s 330ms/step - loss: 0.0259\n",
      "Epoch 32/40\n",
      "20/20 [==============================] - 7s 334ms/step - loss: 0.0203\n",
      "Epoch 33/40\n",
      "20/20 [==============================] - 7s 328ms/step - loss: 0.0193\n",
      "Epoch 34/40\n",
      "20/20 [==============================] - 7s 334ms/step - loss: 0.0350\n",
      "Epoch 35/40\n",
      "20/20 [==============================] - 7s 330ms/step - loss: 0.0328\n",
      "Epoch 36/40\n",
      "20/20 [==============================] - 7s 336ms/step - loss: 0.0209\n",
      "Epoch 37/40\n",
      "20/20 [==============================] - 7s 332ms/step - loss: 0.0210\n",
      "Epoch 38/40\n",
      "20/20 [==============================] - 7s 326ms/step - loss: 0.0234\n",
      "Epoch 39/40\n",
      "20/20 [==============================] - 7s 334ms/step - loss: 0.0245\n",
      "Epoch 40/40\n",
      "20/20 [==============================] - 7s 336ms/step - loss: 0.0232\n"
     ]
    },
    {
     "data": {
      "text/plain": [
       "<keras.src.callbacks.History at 0x1c4f4c0b7d0>"
      ]
     },
     "execution_count": 51,
     "metadata": {},
     "output_type": "execute_result"
    }
   ],
   "source": [
    "model.fit(generator, epochs=40)"
   ]
  },
  {
   "cell_type": "markdown",
   "id": "9c726133",
   "metadata": {},
   "source": [
    "model.fit: This method is used to train the model. \n",
    "generator: This parameter represents the data\n",
    "generator that provides batches of input-output pairs for training.\n",
    "epochs=40: This parameter specifies the number of epochs for which the model will be trained."
   ]
  },
  {
   "cell_type": "code",
   "execution_count": 52,
   "id": "3727fcbc",
   "metadata": {},
   "outputs": [],
   "source": [
    "loss = model.history.history[\"loss\"]"
   ]
  },
  {
   "cell_type": "markdown",
   "id": "ebc81c94",
   "metadata": {},
   "source": [
    "model.history: This accesses the history object of the trained model. \n",
    "The history object contains information about the training process.\n",
    "model.history.history[\"loss\"]: This accesses the \"loss\" metric from the history object\n",
    "This assigns the values of the loss metric to the variable loss."
   ]
  },
  {
   "cell_type": "code",
   "execution_count": 53,
   "id": "97cc399a",
   "metadata": {},
   "outputs": [
    {
     "data": {
      "text/plain": [
       "[<matplotlib.lines.Line2D at 0x1c4e475a9d0>]"
      ]
     },
     "execution_count": 53,
     "metadata": {},
     "output_type": "execute_result"
    },
    {
     "data": {
      "image/png": "[encoded data removed]",
      "text/plain": [
       "<Figure size 640x480 with 1 Axes>"
      ]
     },
     "metadata": {},
     "output_type": "display_data"
    }
   ],
   "source": [
    "plt.plot(loss)"
   ]
  },
  {
   "cell_type": "code",
   "execution_count": 54,
   "id": "68df7c82",
   "metadata": {},
   "outputs": [],
   "source": [
    "last_train_batch = scaled_train[-12:]"
   ]
  },
  {
   "cell_type": "markdown",
   "id": "39725bb4",
   "metadata": {},
   "source": [
    "training data that has been scaled or normalized. It could be a pandas DataFrame, numpy array.\n",
    "[-12:]: This is called slicing in Python.\n",
    "It's a way to select a subset of elements from a list, array, or DataFrame."
   ]
  },
  {
   "cell_type": "code",
   "execution_count": 55,
   "id": "bdd9ed33",
   "metadata": {},
   "outputs": [],
   "source": [
    "last_train_batch = last_train_batch.reshape(1, 12, 1) # last_train_batch in reshape(1,12, 1)"
   ]
  },
  {
   "cell_type": "code",
   "execution_count": 56,
   "id": "9fba1888",
   "metadata": {},
   "outputs": [
    {
     "data": {
      "text/plain": [
       "array([[[0.37395879],\n",
       "        [0.66264796],\n",
       "        [0.31828146],\n",
       "        [0.48882069],\n",
       "        [0.48312144],\n",
       "        [0.70385796],\n",
       "        [0.43095134],\n",
       "        [0.70144673],\n",
       "        [0.61814993],\n",
       "        [0.69728189],\n",
       "        [1.        ],\n",
       "        [0.63195967]]])"
      ]
     },
     "execution_count": 56,
     "metadata": {},
     "output_type": "execute_result"
    }
   ],
   "source": [
    "last_train_batch"
   ]
  },
  {
   "cell_type": "markdown",
   "id": "42eeaf72",
   "metadata": {},
   "source": [
    "# Step 5 Model validation"
   ]
  },
  {
   "cell_type": "code",
   "execution_count": 57,
   "id": "ae24c92d",
   "metadata": {},
   "outputs": [
    {
     "name": "stdout",
     "output_type": "stream",
     "text": [
      "1/1 [==============================] - 0s 221ms/step\n"
     ]
    },
    {
     "data": {
      "text/plain": [
       "array([[0.7884476]], dtype=float32)"
      ]
     },
     "execution_count": 57,
     "metadata": {},
     "output_type": "execute_result"
    }
   ],
   "source": [
    "model.predict(last_train_batch) # predicate the model in last train batch"
   ]
  },
  {
   "cell_type": "code",
   "execution_count": 58,
   "id": "a70db366",
   "metadata": {},
   "outputs": [
    {
     "data": {
      "text/plain": [
       "array([1.23345024])"
      ]
     },
     "execution_count": 58,
     "metadata": {},
     "output_type": "execute_result"
    }
   ],
   "source": [
    "scaled_test[0] #scaled_test[0] in the array"
   ]
  },
  {
   "cell_type": "code",
   "execution_count": 59,
   "id": "157b8754",
   "metadata": {},
   "outputs": [
    {
     "name": "stdout",
     "output_type": "stream",
     "text": [
      "1/1 [==============================] - 0s 191ms/step\n",
      "1/1 [==============================] - 0s 50ms/step\n",
      "1/1 [==============================] - 0s 75ms/step\n",
      "1/1 [==============================] - 0s 49ms/step\n"
     ]
    }
   ],
   "source": [
    "test_pred = []\n",
    "\n",
    "first_eval_batch = scaled_train[-15:]\n",
    "current_batch = first_eval_batch.reshape((1, 15, 1))\n",
    "\n",
    "for i in range(len(test)):\n",
    "    current_pred = model.predict(current_batch)[0]\n",
    "    test_pred.append(current_pred)\n",
    "    current_batch = np.append(current_batch[:,1:,:], [[current_pred]], axis=1)"
   ]
  },
  {
   "cell_type": "markdown",
   "id": "dc6b1fe6",
   "metadata": {},
   "source": [
    "test_pred = []: This initializes an empty list to store the predicted values.\n",
    "first_eval_batch = scaled_train[-15:]: \n",
    "This selects the last 15 elements from the scaled_train dataset and assigns them to first_eval_batch\n",
    "\n",
    "current_batch = first_eval_batch.reshape((1, 15, 1)):\n",
    "This reshapes first_eval_batch into a 3-dimensional array with shape (1, 15, 1).\n",
    "\n",
    "for i in range(len(test)):: \n",
    "This loop iterates over the length of the test data (assuming test is the test dataset).\n",
    "current_pred = model.predict(current_batch)[0]:\n",
    "This line predicts the next value based on the current batch (current_batch) using the trained model (model). \n",
    "\n",
    "test_pred.append(current_pred): \n",
    "This appends the predicted value (current_pred) to the list of test predictions (test_pred).\n"
   ]
  },
  {
   "cell_type": "code",
   "execution_count": 60,
   "id": "b9f79928",
   "metadata": {},
   "outputs": [
    {
     "data": {
      "text/plain": [
       "[array([0.7977141], dtype=float32),\n",
       " array([0.82315147], dtype=float32),\n",
       " array([0.8469917], dtype=float32),\n",
       " array([0.8686124], dtype=float32)]"
      ]
     },
     "execution_count": 60,
     "metadata": {},
     "output_type": "execute_result"
    }
   ],
   "source": [
    "test_pred # test_predicated values"
   ]
  },
  {
   "cell_type": "code",
   "execution_count": 61,
   "id": "99286ea2",
   "metadata": {},
   "outputs": [
    {
     "data": {
      "text/html": [
       "<div>\n",
       "<style scoped>\n",
       "    .dataframe tbody tr th:only-of-type {\n",
       "        vertical-align: middle;\n",
       "    }\n",
       "\n",
       "    .dataframe tbody tr th {\n",
       "        vertical-align: top;\n",
       "    }\n",
       "\n",
       "    .dataframe thead th {\n",
       "        text-align: right;\n",
       "    }\n",
       "</style>\n",
       "<table border=\"1\" class=\"dataframe\">\n",
       "  <thead>\n",
       "    <tr style=\"text-align: right;\">\n",
       "      <th></th>\n",
       "      <th>Sales</th>\n",
       "    </tr>\n",
       "    <tr>\n",
       "      <th>Month</th>\n",
       "      <th></th>\n",
       "    </tr>\n",
       "  </thead>\n",
       "  <tbody>\n",
       "    <tr>\n",
       "      <th>3-09</th>\n",
       "      <td>682.0</td>\n",
       "    </tr>\n",
       "    <tr>\n",
       "      <th>3-10</th>\n",
       "      <td>475.3</td>\n",
       "    </tr>\n",
       "    <tr>\n",
       "      <th>3-11</th>\n",
       "      <td>581.3</td>\n",
       "    </tr>\n",
       "    <tr>\n",
       "      <th>3-12</th>\n",
       "      <td>646.9</td>\n",
       "    </tr>\n",
       "  </tbody>\n",
       "</table>\n",
       "</div>"
      ],
      "text/plain": [
       "       Sales\n",
       "Month       \n",
       "3-09   682.0\n",
       "3-10   475.3\n",
       "3-11   581.3\n",
       "3-12   646.9"
      ]
     },
     "execution_count": 61,
     "metadata": {},
     "output_type": "execute_result"
    }
   ],
   "source": [
    "test.head() #test.head()"
   ]
  },
  {
   "cell_type": "code",
   "execution_count": 62,
   "id": "8d1804b1",
   "metadata": {},
   "outputs": [],
   "source": [
    "true_pred = scaler.inverse_transform(test_pred)"
   ]
  },
  {
   "cell_type": "markdown",
   "id": "9bea7192",
   "metadata": {},
   "source": [
    "The code true_pred = scaler.inverse_transform(test_pred) appears to be transforming the predicted values\n",
    "(test_pred) back to their original scale using an inverse transformation."
   ]
  },
  {
   "cell_type": "code",
   "execution_count": 63,
   "id": "71428393",
   "metadata": {},
   "outputs": [],
   "source": [
    "test[\"Predicated Sales\"] = true_pred"
   ]
  },
  {
   "cell_type": "markdown",
   "id": "3d8745d4",
   "metadata": {},
   "source": [
    "new column named \"Predicted Sales\" to a DataFrame test and populating it with \n",
    "the values stored in the variable true_pred."
   ]
  },
  {
   "cell_type": "code",
   "execution_count": 64,
   "id": "5d56b070",
   "metadata": {},
   "outputs": [
    {
     "data": {
      "text/html": [
       "<div>\n",
       "<style scoped>\n",
       "    .dataframe tbody tr th:only-of-type {\n",
       "        vertical-align: middle;\n",
       "    }\n",
       "\n",
       "    .dataframe tbody tr th {\n",
       "        vertical-align: top;\n",
       "    }\n",
       "\n",
       "    .dataframe thead th {\n",
       "        text-align: right;\n",
       "    }\n",
       "</style>\n",
       "<table border=\"1\" class=\"dataframe\">\n",
       "  <thead>\n",
       "    <tr style=\"text-align: right;\">\n",
       "      <th></th>\n",
       "      <th>Sales</th>\n",
       "      <th>Predicated Sales</th>\n",
       "    </tr>\n",
       "    <tr>\n",
       "      <th>Month</th>\n",
       "      <th></th>\n",
       "      <th></th>\n",
       "    </tr>\n",
       "  </thead>\n",
       "  <tbody>\n",
       "    <tr>\n",
       "      <th>3-09</th>\n",
       "      <td>682.0</td>\n",
       "      <td>483.217179</td>\n",
       "    </tr>\n",
       "    <tr>\n",
       "      <th>3-10</th>\n",
       "      <td>475.3</td>\n",
       "      <td>494.821700</td>\n",
       "    </tr>\n",
       "    <tr>\n",
       "      <th>3-11</th>\n",
       "      <td>581.3</td>\n",
       "      <td>505.697622</td>\n",
       "    </tr>\n",
       "    <tr>\n",
       "      <th>3-12</th>\n",
       "      <td>646.9</td>\n",
       "      <td>515.560981</td>\n",
       "    </tr>\n",
       "  </tbody>\n",
       "</table>\n",
       "</div>"
      ],
      "text/plain": [
       "       Sales  Predicated Sales\n",
       "Month                         \n",
       "3-09   682.0        483.217179\n",
       "3-10   475.3        494.821700\n",
       "3-11   581.3        505.697622\n",
       "3-12   646.9        515.560981"
      ]
     },
     "execution_count": 64,
     "metadata": {},
     "output_type": "execute_result"
    }
   ],
   "source": [
    "test.head() #head of the test"
   ]
  },
  {
   "cell_type": "code",
   "execution_count": 65,
   "id": "ad0e91c9",
   "metadata": {},
   "outputs": [
    {
     "data": {
      "text/plain": [
       "<Axes: xlabel='Month'>"
      ]
     },
     "execution_count": 65,
     "metadata": {},
     "output_type": "execute_result"
    },
    {
     "data": {
      "image/png": "[encoded data removed]",
      "text/plain": [
       "<Figure size 1200x500 with 1 Axes>"
      ]
     },
     "metadata": {},
     "output_type": "display_data"
    }
   ],
   "source": [
    "test.plot(figsize=(12,5))"
   ]
  },
  {
   "cell_type": "code",
   "execution_count": 66,
   "id": "3ad22e8c",
   "metadata": {},
   "outputs": [],
   "source": [
    "from sklearn.metrics import mean_squared_error "
   ]
  },
  {
   "cell_type": "code",
   "execution_count": 67,
   "id": "ad0741cd",
   "metadata": {},
   "outputs": [],
   "source": [
    "rsme = np.sqrt(mean_squared_error(test[\"Sales\"], test[\"Predicated Sales\"]))"
   ]
  },
  {
   "cell_type": "markdown",
   "id": "e93c3980",
   "metadata": {},
   "source": [
    "mean_squared_error(test[\"Sales\"], test[\"Predicted Sales\"]):\n",
    "This computes the mean squared error (MSE) between the actual sales values (test[\"Sales\"]) and \n",
    "the predicted sales values (test[\"Predicted Sales\"]). \n",
    "The MSE measures the average squared difference between the predicted and actual values\n",
    "\n",
    "np.sqrt(): This is a function from the NumPy library that calculates the square root of a value. "
   ]
  },
  {
   "cell_type": "code",
   "execution_count": 68,
   "id": "c2c6b350",
   "metadata": {},
   "outputs": [
    {
     "data": {
      "text/plain": [
       "125.36084348483917"
      ]
     },
     "execution_count": 68,
     "metadata": {},
     "output_type": "execute_result"
    }
   ],
   "source": [
    "rsme"
   ]
  },
  {
   "cell_type": "markdown",
   "id": "2f53f1e5",
   "metadata": {},
   "source": [
    "# Smmary of datasets"
   ]
  },
  {
   "cell_type": "markdown",
   "id": "23ca3048",
   "metadata": {},
   "source": [
    "Convert the 'Month' column to a datetime format.\n",
    "Set the 'Month' column as the index of the DataFrame.\n",
    "Use the seasonal_decompose function to decompose the time series data into its trend, seasonal, and residual components."
   ]
  },
  {
   "cell_type": "markdown",
   "id": "0fe7c1f4",
   "metadata": {},
   "source": [
    "1)We create a DataFrame df from the provided data.\n",
    "2)Convert the 'Month' column to datetime format using pd.to_datetime.\n",
    "3)Set the 'Month' column as the index of the DataFrame using set_index.\n",
    "4)Perform seasonal decomposition using seasonal_decompose, assuming a yearly seasonality (period=12).\n",
    "5)Print the decomposition result.\n"
   ]
  },
  {
   "cell_type": "code",
   "execution_count": null,
   "id": "0f7fe18f",
   "metadata": {},
   "outputs": [],
   "source": []
  }
 ],
 "metadata": {
  "kernelspec": {
   "display_name": "Python 3 (ipykernel)",
   "language": "python",
   "name": "python3"
  },
  "language_info": {
   "codemirror_mode": {
    "name": "ipython",
    "version": 3
   },
   "file_extension": ".py",
   "mimetype": "text/x-python",
   "name": "python",
   "nbconvert_exporter": "python",
   "pygments_lexer": "ipython3",
   "version": "3.11.3"
  }
 },
 "nbformat": 4,
 "nbformat_minor": 5
}
